{
  "nbformat": 4,
  "nbformat_minor": 0,
  "metadata": {
    "colab": {
      "name": "ftcphysics.ipynb",
      "provenance": [],
      "include_colab_link": true
    },
    "kernelspec": {
      "name": "python3",
      "display_name": "Python 3"
    }
  },
  "cells": [
    {
      "cell_type": "markdown",
      "metadata": {
        "id": "view-in-github",
        "colab_type": "text"
      },
      "source": [
        "<a href=\"https://colab.research.google.com/github/krishpatel1077/FTC-Projectile-Motion-Ultimate-Goal/blob/main/ftcphysics.ipynb\" target=\"_parent\"><img src=\"https://colab.research.google.com/assets/colab-badge.svg\" alt=\"Open In Colab\"/></a>"
      ]
    },
    {
      "cell_type": "code",
      "metadata": {
        "id": "H8nLSDQYhppc"
      },
      "source": [
        "import math\n",
        "import numpy as np\n",
        "import matplotlib.pyplot as plt"
      ],
      "execution_count": null,
      "outputs": []
    },
    {
      "cell_type": "code",
      "metadata": {
        "id": "YfXPsL2oPEFm",
        "colab": {
          "base_uri": "https://localhost:8080/",
          "height": 34
        },
        "outputId": "321d3434-3f9d-4c36-8375-5afcc565f404"
      },
      "source": [
        "yzero = float(input(\"Enter starting height (in): \"))"
      ],
      "execution_count": null,
      "outputs": [
        {
          "output_type": "stream",
          "text": [
            "Enter starting height (in): 6\n"
          ],
          "name": "stdout"
        }
      ]
    },
    {
      "cell_type": "code",
      "metadata": {
        "id": "IB1hjIacfmXA"
      },
      "source": [
        "x_cords = range(0, 60)\n",
        "x = float(60)\n",
        "lowL = float(13)\n",
        "lowH = float(21)\n",
        "medL = float(21)\n",
        "medH = float(33)\n",
        "highL = float(33)\n",
        "highH = float(38)\n"
      ],
      "execution_count": null,
      "outputs": []
    },
    {
      "cell_type": "code",
      "metadata": {
        "id": "qdHInUdkgOKp"
      },
      "source": [
        "def inches_meters(inches):\n",
        "    meter = float(inches/39.3701)\n",
        "    return meter"
      ],
      "execution_count": null,
      "outputs": []
    },
    {
      "cell_type": "code",
      "metadata": {
        "id": "IFeDQ0BSgUNA"
      },
      "source": [
        "def meters_inches(meters):\n",
        "    inches = float(meters*39.3701)\n",
        "    return inches"
      ],
      "execution_count": null,
      "outputs": []
    },
    {
      "cell_type": "code",
      "metadata": {
        "id": "I4FTIMt8gfLo"
      },
      "source": [
        "x = inches_meters(x)\n",
        "lowL = inches_meters(lowL)\n",
        "lowH = inches_meters(lowH)\n",
        "medL = inches_meters(medL)\n",
        "medH = inches_meters(medH)\n",
        "highL = inches_meters(highL)\n",
        "highH = inches_meters(highH)\n",
        "yzero = inches_meters(yzero)"
      ],
      "execution_count": null,
      "outputs": []
    },
    {
      "cell_type": "code",
      "metadata": {
        "id": "0p5YP6syg8Vg",
        "colab": {
          "base_uri": "https://localhost:8080/",
          "height": 34
        },
        "outputId": "054c4e9b-c369-4357-d1a0-32bb8bb7b733"
      },
      "source": [
        "theta = float(input(\"Enter angle respective to positive x-axis (degrees): \"))"
      ],
      "execution_count": null,
      "outputs": [
        {
          "output_type": "stream",
          "text": [
            "Enter angle respective to positive x-axis (degrees): 40\n"
          ],
          "name": "stdout"
        }
      ]
    },
    {
      "cell_type": "code",
      "metadata": {
        "id": "wOnLHmUXhL_A",
        "colab": {
          "base_uri": "https://localhost:8080/",
          "height": 34
        },
        "outputId": "aa63b977-305d-48bd-8499-11b410327deb"
      },
      "source": [
        "vzero = float(input(\"Enter initial velocity (m/s): \"))"
      ],
      "execution_count": null,
      "outputs": [
        {
          "output_type": "stream",
          "text": [
            "Enter initial velocity (m/s): 5.5\n"
          ],
          "name": "stdout"
        }
      ]
    },
    {
      "cell_type": "code",
      "metadata": {
        "id": "pbWf6sTUhkDI"
      },
      "source": [
        "vzerox = float(vzero * math.cos(theta * 0.0174533))\n",
        "vzeroy = float(vzero * math.sin(theta * 0.0174533))"
      ],
      "execution_count": null,
      "outputs": []
    },
    {
      "cell_type": "code",
      "metadata": {
        "id": "ajrml4mRiFwZ"
      },
      "source": [
        "t = float(x/vzerox)"
      ],
      "execution_count": null,
      "outputs": []
    },
    {
      "cell_type": "code",
      "metadata": {
        "id": "SPHFbndIi9lr"
      },
      "source": [
        "deltay = float(vzeroy * t - (0.5 * 9.81 * t * t) + yzero)"
      ],
      "execution_count": null,
      "outputs": []
    },
    {
      "cell_type": "code",
      "metadata": {
        "id": "WgnkJkF1jzT6"
      },
      "source": [
        "def goal(deltay):\n",
        "  s = \"\"\n",
        "  if (deltay < lowL):\n",
        "      s = \"No Goal Reached (too low): \" + str(meters_inches(deltay)) + \" in.\"\n",
        "  if (deltay > lowL and deltay < lowH):\n",
        "      s = \"Falls in Low Goal at \" + str(meters_inches(deltay)) + \" in.\"\n",
        "  if (deltay > medL and deltay < medH):\n",
        "      s = \"Falls in Med Goal at \" + str(meters_inches(deltay)) + \" in.\"\n",
        "  if (deltay > highL and deltay < highH):\n",
        "      s = \"Falls in High Goal at \" + str(meters_inches(deltay)) + \" in.\"\n",
        "  if (deltay > highH):\n",
        "      s = \"No Goal Reached (too high): \" + str(meters_inches(deltay)) + \" in.\"\n",
        "  return s"
      ],
      "execution_count": null,
      "outputs": []
    },
    {
      "cell_type": "code",
      "metadata": {
        "id": "m_letZ_UmhNS"
      },
      "source": [
        "message = goal(deltay)\n",
        "time = str(t)\n",
        "finalmessage = \"It took \" + time + \" seconds to reach the tower. \" + message"
      ],
      "execution_count": null,
      "outputs": []
    },
    {
      "cell_type": "code",
      "metadata": {
        "id": "pG0mzuqEm4vo",
        "colab": {
          "base_uri": "https://localhost:8080/",
          "height": 35
        },
        "outputId": "1153710b-7404-41ba-a7d7-9f1ea87280cb"
      },
      "source": [
        "finalmessage"
      ],
      "execution_count": null,
      "outputs": [
        {
          "output_type": "execute_result",
          "data": {
            "application/vnd.google.colaboratory.intrinsic+json": {
              "type": "string"
            },
            "text/plain": [
              "'It took 0.36171638802089806 seconds to reach the tower. Falls in Med Goal at 31.07969379504809 in.'"
            ]
          },
          "metadata": {
            "tags": []
          },
          "execution_count": 111
        }
      ]
    },
    {
      "cell_type": "code",
      "metadata": {
        "id": "JW4xIzabksJ1"
      },
      "source": [
        "x_cords = range(0,60)\n",
        "t_cords = np.linspace(0, t, 50)\n",
        "y_cords = [(meters_inches(float(vzeroy * t - (0.5 * 9.81 * t * t) + yzero))) for t in t_cords]\n",
        "x_graph = [meters_inches(float(vzerox * t)) for t in t_cords]"
      ],
      "execution_count": null,
      "outputs": []
    },
    {
      "cell_type": "code",
      "metadata": {
        "id": "HDd4xfxdN_It",
        "colab": {
          "base_uri": "https://localhost:8080/",
          "height": 281
        },
        "outputId": "c8eab76d-0b36-40cd-8337-7e956adfb10b"
      },
      "source": [
        "plt.plot([0, 60], [13, 13], label = \"Low Goal Low Limit\")\n",
        "plt.plot([0, 60], [21, 21], label = \"Low Goal High / Med Goal Low Limit\")\n",
        "plt.plot([0, 60], [33, 33], label = \"Med Goal High / High Goal Low Limit\")\n",
        "plt.plot([0, 60], [38, 38], label = \"High Goal High Limit\")\n",
        "plt.plot(x_graph, y_cords, label = \"Projectile Trajectory\")\n",
        "plt.ylim(0, 45)\n",
        "plt.legend()\n",
        "plt.title(finalmessage)\n",
        "plt.show()"
      ],
      "execution_count": null,
      "outputs": [
        {
          "output_type": "display_data",
          "data": {
            "image/png": "[encoded data removed]",
            "text/plain": [
              "<Figure size 432x288 with 1 Axes>"
            ]
          },
          "metadata": {
            "tags": [],
            "needs_background": "light"
          }
        }
      ]
    }
  ]
}